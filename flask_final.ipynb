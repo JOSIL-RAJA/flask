{
  "nbformat": 4,
  "nbformat_minor": 0,
  "metadata": {
    "colab": {
      "provenance": []
    },
    "kernelspec": {
      "name": "python3",
      "display_name": "Python 3"
    },
    "language_info": {
      "name": "python"
    }
  },
  "cells": [
    {
      "cell_type": "code",
      "source": [
        "# Step 1: Install Flask\n",
        "!pip install flask\n",
        "\n",
        "# Step 2: Create the Flask application\n",
        "app_code = \"\"\"\n",
        "from flask import Flask\n",
        "\n",
        "app = Flask(__name__)\n",
        "\n",
        "@app.route('/')\n",
        "def home():\n",
        "    return \"Hello, this is a simple Flask application!\"\n",
        "\n",
        "if __name__ == '__main__':\n",
        "    app.run(host='0.0.0.0', port=5000)\n",
        "\"\"\"\n",
        "\n",
        "with open('app.py', 'w') as f:\n",
        "    f.write(app_code)\n",
        "\n",
        "# Step 3: Use Colab's built-in public URL\n",
        "from flask import Flask\n",
        "from threading import Thread\n",
        "\n",
        "app = Flask(__name__)\n",
        "\n",
        "@app.route('/')\n",
        "def home():\n",
        "    return \"Hello, this is a simple Flask application!\"\n",
        "\n",
        "def run():\n",
        "    app.run(host='0.0.0.0', port=5000)\n",
        "\n",
        "# Start a new thread to run the Flask app\n",
        "t = Thread(target=run)\n",
        "t.start()\n",
        "\n",
        "# Use Colab's built-in public URL feature\n",
        "from google.colab.output import eval_js\n",
        "print(eval_js(\"google.colab.kernel.proxyPort(5000)\"))"
      ],
      "metadata": {
        "colab": {
          "base_uri": "https://localhost:8080/",
          "height": 260
        },
        "id": "dF3-xomwNUiJ",
        "outputId": "ee5eb213-da7c-4578-ce40-e77a106c5a7d"
      },
      "execution_count": 1,
      "outputs": [
        {
          "output_type": "stream",
          "name": "stdout",
          "text": [
            "Requirement already satisfied: flask in /usr/local/lib/python3.10/dist-packages (2.2.5)\n",
            "Requirement already satisfied: Werkzeug>=2.2.2 in /usr/local/lib/python3.10/dist-packages (from flask) (3.0.3)\n",
            "Requirement already satisfied: Jinja2>=3.0 in /usr/local/lib/python3.10/dist-packages (from flask) (3.1.4)\n",
            "Requirement already satisfied: itsdangerous>=2.0 in /usr/local/lib/python3.10/dist-packages (from flask) (2.2.0)\n",
            "Requirement already satisfied: click>=8.0 in /usr/local/lib/python3.10/dist-packages (from flask) (8.1.7)\n",
            "Requirement already satisfied: MarkupSafe>=2.0 in /usr/local/lib/python3.10/dist-packages (from Jinja2>=3.0->flask) (2.1.5)\n",
            " * Serving Flask app '__main__'\n",
            " * Debug mode: off\n"
          ]
        },
        {
          "output_type": "stream",
          "name": "stderr",
          "text": [
            "INFO:werkzeug:\u001b[31m\u001b[1mWARNING: This is a development server. Do not use it in a production deployment. Use a production WSGI server instead.\u001b[0m\n",
            " * Running on all addresses (0.0.0.0)\n",
            " * Running on http://127.0.0.1:5000\n",
            " * Running on http://172.28.0.12:5000\n",
            "INFO:werkzeug:\u001b[33mPress CTRL+C to quit\u001b[0m\n"
          ]
        },
        {
          "output_type": "stream",
          "name": "stdout",
          "text": [
            "https://mp1l33vrcag-496ff2e9c6d22116-5000-colab.googleusercontent.com/\n"
          ]
        }
      ]
    },
    {
      "cell_type": "markdown",
      "source": [
        "resume"
      ],
      "metadata": {
        "id": "U2w4V4r1TQTH"
      }
    },
    {
      "cell_type": "code",
      "source": [
        "app_code = \"\"\"\n",
        "from flask import Flask\n",
        "\n",
        "app = Flask(__name__)\n",
        "\n",
        "@app.route('/')\n",
        "def home():\n",
        "    resume = '''\n",
        "    <html>\n",
        "    <body>\n",
        "        <h1>My Resume</h1>\n",
        "        <p><strong>Name:</strong> Raja</p>\n",
        "        <p><strong>Age:</strong> 22</p>\n",
        "        <p><strong>Skills:</strong></p>\n",
        "        <ul>\n",
        "            <li>deep learning 1</li>\n",
        "            <li>power bi 2</li>\n",
        "            <li>machine learning 3</li>\n",
        "        </ul>\n",
        "        <p><strong>Email:</strong> abc@gmail.com</p>\n",
        "    </body>\n",
        "    </html>\n",
        "    '''\n",
        "    return resume\n",
        "\n",
        "if __name__ == '__main__':\n",
        "    app.run(host='0.0.0.0', port=8000)\n",
        "\"\"\"\n",
        "\n",
        "with open('app.py', 'w') as f:\n",
        "    f.write(app_code)\n"
      ],
      "metadata": {
        "id": "MSbdCutAQK5w"
      },
      "execution_count": 2,
      "outputs": []
    },
    {
      "cell_type": "code",
      "source": [
        "from flask import Flask\n",
        "from threading import Thread\n",
        "\n",
        "app = Flask(__name__)\n",
        "\n",
        "@app.route('/')\n",
        "def home():\n",
        "    resume = '''\n",
        "    <html>\n",
        "    <body>\n",
        "        <h1>My Resume</h1>\n",
        "        <p><strong>Name:</strong> Raja</p>\n",
        "        <p><strong>Age:</strong> 22</p>\n",
        "        <p><strong>Skills:</strong></p>\n",
        "        <ul>\n",
        "            <li>deep learning 1</li>\n",
        "            <li>power bi 2</li>\n",
        "            <li>machine learning 3</li>\n",
        "        </ul>\n",
        "        <p><strong>Email:</strong> abc@gmail.com</p>\n",
        "    </body>\n",
        "    </html>\n",
        "    '''\n",
        "    return resume\n",
        "\n",
        "def run():\n",
        "    app.run(host='0.0.0.0', port=8000)\n",
        "\n",
        "# Start a new thread to run the Flask app\n",
        "t = Thread(target=run)\n",
        "t.start()\n",
        "\n",
        "# Use Colab's built-in public URL feature\n",
        "from google.colab.output import eval_js\n",
        "print(eval_js(\"google.colab.kernel.proxyPort(8000)\"))\n"
      ],
      "metadata": {
        "colab": {
          "base_uri": "https://localhost:8080/",
          "height": 156
        },
        "id": "Kjv96t4SUD-k",
        "outputId": "1c2c038a-f21d-4ba2-8513-78a3fd726dad"
      },
      "execution_count": 3,
      "outputs": [
        {
          "output_type": "stream",
          "name": "stdout",
          "text": [
            " * Serving Flask app '__main__'\n",
            " * Debug mode: off\n"
          ]
        },
        {
          "output_type": "stream",
          "name": "stderr",
          "text": [
            "INFO:werkzeug:\u001b[31m\u001b[1mWARNING: This is a development server. Do not use it in a production deployment. Use a production WSGI server instead.\u001b[0m\n",
            " * Running on all addresses (0.0.0.0)\n",
            " * Running on http://127.0.0.1:8000\n",
            " * Running on http://172.28.0.12:8000\n",
            "INFO:werkzeug:\u001b[33mPress CTRL+C to quit\u001b[0m\n"
          ]
        },
        {
          "output_type": "stream",
          "name": "stdout",
          "text": [
            "https://2ce3cro5m3y-496ff2e9c6d22116-8000-colab.googleusercontent.com/\n"
          ]
        }
      ]
    },
    {
      "cell_type": "code",
      "source": [],
      "metadata": {
        "id": "lLqfBmz1UVAm"
      },
      "execution_count": 3,
      "outputs": []
    }
  ]
}